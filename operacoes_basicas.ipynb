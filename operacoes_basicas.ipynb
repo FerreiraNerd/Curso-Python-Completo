{
 "cells": [
  {
   "cell_type": "markdown",
   "id": "c8a532c2",
   "metadata": {},
   "source": [
    "## Variaveis"
   ]
  },
  {
   "cell_type": "code",
   "execution_count": 1,
   "id": "160a0468",
   "metadata": {},
   "outputs": [],
   "source": [
    "x = 5\n",
    "y = \"Renato\""
   ]
  },
  {
   "cell_type": "code",
   "execution_count": 2,
   "id": "a48c3424",
   "metadata": {},
   "outputs": [
    {
     "name": "stdout",
     "output_type": "stream",
     "text": [
      "5\n"
     ]
    }
   ],
   "source": [
    "print(x)"
   ]
  },
  {
   "cell_type": "code",
   "execution_count": 3,
   "id": "300e3198",
   "metadata": {},
   "outputs": [
    {
     "name": "stdout",
     "output_type": "stream",
     "text": [
      "Renato\n"
     ]
    }
   ],
   "source": [
    "print(y)"
   ]
  },
  {
   "cell_type": "code",
   "execution_count": 4,
   "id": "bb63fb87",
   "metadata": {},
   "outputs": [],
   "source": [
    "x1 = str(3)\n",
    "y1 = int(3)\n",
    "z1 = float(3)"
   ]
  },
  {
   "cell_type": "code",
   "execution_count": 5,
   "id": "a468cf5a",
   "metadata": {},
   "outputs": [
    {
     "name": "stdout",
     "output_type": "stream",
     "text": [
      "3\n"
     ]
    }
   ],
   "source": [
    "print(x1)"
   ]
  },
  {
   "cell_type": "code",
   "execution_count": 6,
   "id": "58eebe27",
   "metadata": {},
   "outputs": [
    {
     "name": "stdout",
     "output_type": "stream",
     "text": [
      "<class 'str'>\n"
     ]
    }
   ],
   "source": [
    "print(type(x1))"
   ]
  },
  {
   "cell_type": "code",
   "execution_count": 7,
   "id": "3e00bf38",
   "metadata": {},
   "outputs": [
    {
     "name": "stdout",
     "output_type": "stream",
     "text": [
      "3\n",
      "<class 'int'>\n"
     ]
    }
   ],
   "source": [
    "print(y1)\n",
    "print(type(y1))"
   ]
  },
  {
   "cell_type": "code",
   "execution_count": 8,
   "id": "098728f0",
   "metadata": {},
   "outputs": [
    {
     "name": "stdout",
     "output_type": "stream",
     "text": [
      "3.0\n",
      "<class 'float'>\n"
     ]
    }
   ],
   "source": [
    "print(z1)\n",
    "print(type(z1))"
   ]
  },
  {
   "cell_type": "code",
   "execution_count": 13,
   "id": "74d48e37",
   "metadata": {},
   "outputs": [
    {
     "name": "stdout",
     "output_type": "stream",
     "text": [
      "Renato1\n"
     ]
    }
   ],
   "source": [
    "teste0 = \"Renato1\"\n",
    "print(teste0)"
   ]
  },
  {
   "cell_type": "code",
   "execution_count": 17,
   "id": "91114bc7",
   "metadata": {},
   "outputs": [
    {
     "name": "stdout",
     "output_type": "stream",
     "text": [
      "Renato1\n"
     ]
    }
   ],
   "source": [
    "teste_new = \"Renato1\"\n",
    "print(teste_new)"
   ]
  },
  {
   "cell_type": "code",
   "execution_count": 18,
   "id": "32d22aff",
   "metadata": {},
   "outputs": [
    {
     "ename": "SyntaxError",
     "evalue": "invalid syntax (<ipython-input-18-00493e9b1efe>, line 1)",
     "output_type": "error",
     "traceback": [
      "\u001b[1;36m  File \u001b[1;32m\"<ipython-input-18-00493e9b1efe>\"\u001b[1;36m, line \u001b[1;32m1\u001b[0m\n\u001b[1;33m    teste new = \"Renato1\"\u001b[0m\n\u001b[1;37m          ^\u001b[0m\n\u001b[1;31mSyntaxError\u001b[0m\u001b[1;31m:\u001b[0m invalid syntax\n"
     ]
    }
   ],
   "source": [
    "teste new = \"Renato1\"\n",
    "print(teste new)"
   ]
  },
  {
   "cell_type": "code",
   "execution_count": 19,
   "id": "79c63fd7",
   "metadata": {},
   "outputs": [
    {
     "name": "stdout",
     "output_type": "stream",
     "text": [
      "Renato\n",
      "Jone\n",
      "Val\n"
     ]
    }
   ],
   "source": [
    "x2,y2,z2 = \"Renato\", \"Jone\", \"Val\"\n",
    "print(x2)\n",
    "print(y2)\n",
    "print(z2)"
   ]
  },
  {
   "cell_type": "code",
   "execution_count": 22,
   "id": "8c2b01b8",
   "metadata": {},
   "outputs": [
    {
     "name": "stdout",
     "output_type": "stream",
     "text": [
      "maça\n",
      "banana\n",
      "laranja\n"
     ]
    }
   ],
   "source": [
    "frutas = [\"maça\", \"banana\", \"laranja\"]\n",
    "x3, y3, z3 = frutas\n",
    "print(x3)\n",
    "print(y3)\n",
    "print(z3)"
   ]
  },
  {
   "cell_type": "code",
   "execution_count": 24,
   "id": "4132005f",
   "metadata": {},
   "outputs": [
    {
     "name": "stdout",
     "output_type": "stream",
     "text": [
      "maça banana laranja\n"
     ]
    }
   ],
   "source": [
    "print(x3, y3, z3)"
   ]
  },
  {
   "cell_type": "code",
   "execution_count": 27,
   "id": "c7f7b02d",
   "metadata": {},
   "outputs": [
    {
     "name": "stdout",
     "output_type": "stream",
     "text": [
      "maça; banana; laranja\n"
     ]
    }
   ],
   "source": [
    "print(x3 + \";\", y3 +\";\", z3)"
   ]
  }
 ],
 "metadata": {
  "kernelspec": {
   "display_name": "Python 3",
   "language": "python",
   "name": "python3"
  },
  "language_info": {
   "codemirror_mode": {
    "name": "ipython",
    "version": 3
   },
   "file_extension": ".py",
   "mimetype": "text/x-python",
   "name": "python",
   "nbconvert_exporter": "python",
   "pygments_lexer": "ipython3",
   "version": "3.8.8"
  }
 },
 "nbformat": 4,
 "nbformat_minor": 5
}
